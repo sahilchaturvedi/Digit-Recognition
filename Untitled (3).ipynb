{
 "cells": [
  {
   "cell_type": "code",
   "execution_count": 1,
   "metadata": {},
   "outputs": [],
   "source": [
    "import numpy as np"
   ]
  },
  {
   "cell_type": "code",
   "execution_count": 2,
   "metadata": {
    "scrolled": true
   },
   "outputs": [
    {
     "name": "stdout",
     "output_type": "stream",
     "text": [
      "(777, 64)\n",
      "(333, 64)\n",
      "(777, 1)\n",
      "(333, 1)\n"
     ]
    }
   ],
   "source": [
    "import csv\n",
    "rows = []\n",
    "with open('P1_data_train.csv') as csvfile:\n",
    "    csvreader = csv.reader(csvfile, delimiter=',')\n",
    "    for row in csvreader:\n",
    "        rows.append(row)\n",
    "    train_data = np.array(rows, dtype = np.float64)\n",
    "    print(train_data.shape)\n",
    "rows = []\n",
    "with open('P1_data_test.csv') as csvfile:\n",
    "    csvreader = csv.reader(csvfile, delimiter=',')\n",
    "    for row in csvreader:\n",
    "        rows.append(row)\n",
    "    test_data = np.array(rows, dtype = np.float64)\n",
    "    print(test_data.shape)\n",
    "rows = []\n",
    "with open('P1_labels_train.csv') as csvfile:\n",
    "    csvreader = csv.reader(csvfile, delimiter=',')\n",
    "    for row in csvreader:\n",
    "        rows.append(row)\n",
    "    train_labels = np.array(rows)\n",
    "    print(train_labels.shape)\n",
    "rows = []\n",
    "with open('P1_labels_test.csv') as csvfile:\n",
    "    csvreader = csv.reader(csvfile, delimiter=',')\n",
    "    for row in csvreader:\n",
    "        rows.append(row)\n",
    "    test_labels = np.array(rows)\n",
    "    print(test_labels.shape)\n"
   ]
  },
  {
   "cell_type": "code",
   "execution_count": 3,
   "metadata": {
    "scrolled": true
   },
   "outputs": [
    {
     "data": {
      "text/plain": [
       "array(['5'], dtype='|S1')"
      ]
     },
     "execution_count": 3,
     "metadata": {},
     "output_type": "execute_result"
    }
   ],
   "source": [
    "train_labels[1]"
   ]
  },
  {
   "cell_type": "code",
   "execution_count": 4,
   "metadata": {},
   "outputs": [
    {
     "name": "stdout",
     "output_type": "stream",
     "text": [
      "[[ 5  9]\n",
      " [ 9 18]]\n"
     ]
    }
   ],
   "source": [
    "z = np.array([[1,3],[2,3]])\n",
    "s = np.dot(z.T,z)\n",
    "print(s)"
   ]
  },
  {
   "cell_type": "code",
   "execution_count": 5,
   "metadata": {},
   "outputs": [
    {
     "data": {
      "text/plain": [
       "1"
      ]
     },
     "execution_count": 5,
     "metadata": {},
     "output_type": "execute_result"
    }
   ],
   "source": [
    "z[0][0]"
   ]
  },
  {
   "cell_type": "code",
   "execution_count": 6,
   "metadata": {},
   "outputs": [],
   "source": [
    "a1 = (train_labels != '5')"
   ]
  },
  {
   "cell_type": "code",
   "execution_count": 7,
   "metadata": {},
   "outputs": [
    {
     "data": {
      "text/plain": [
       "(777, 1)"
      ]
     },
     "execution_count": 7,
     "metadata": {},
     "output_type": "execute_result"
    }
   ],
   "source": [
    "a1.shape"
   ]
  },
  {
   "cell_type": "code",
   "execution_count": 8,
   "metadata": {},
   "outputs": [
    {
     "data": {
      "text/plain": [
       "array([False])"
      ]
     },
     "execution_count": 8,
     "metadata": {},
     "output_type": "execute_result"
    }
   ],
   "source": [
    "a1.sum()\n",
    "a1[1]"
   ]
  },
  {
   "cell_type": "code",
   "execution_count": 9,
   "metadata": {},
   "outputs": [
    {
     "name": "stdout",
     "output_type": "stream",
     "text": [
      "777\n",
      "0.509652509653\n",
      "0.490347490347\n"
     ]
    }
   ],
   "source": [
    "apriori_c5 = float(np.sum(train_labels == '5'))/train_data.shape[0]\n",
    "apriori_c6 = 1 - apriori_c5\n",
    "print(train_data.shape[0])\n",
    "print(apriori_c5)\n",
    "print(apriori_c6)"
   ]
  },
  {
   "cell_type": "code",
   "execution_count": 10,
   "metadata": {},
   "outputs": [
    {
     "name": "stdout",
     "output_type": "stream",
     "text": [
      "(396, 381)\n"
     ]
    }
   ],
   "source": [
    "n5 = np.sum(train_labels == '5')\n",
    "n6 = train_data.shape[0] - n5\n",
    "print(n5, n6)"
   ]
  },
  {
   "cell_type": "code",
   "execution_count": 12,
   "metadata": {},
   "outputs": [
    {
     "name": "stdout",
     "output_type": "stream",
     "text": [
      "(777, 1)\n"
     ]
    }
   ],
   "source": [
    "bool_index = (train_labels == '5')\n",
    "print(bool_index.shape)\n",
    "# mu_5 = np.sum(train_data, axis = 0, keepdims = True)\n",
    "#mu_5.shape"
   ]
  },
  {
   "cell_type": "code",
   "execution_count": 13,
   "metadata": {
    "scrolled": true
   },
   "outputs": [
    {
     "name": "stdout",
     "output_type": "stream",
     "text": [
      "(396, 64)\n"
     ]
    }
   ],
   "source": [
    "train_data5 = np.zeros([n5, train_data.shape[1]])\n",
    "train_data6 = np.zeros([n6, train_data.shape[1]])\n",
    "j = 0; k=0\n",
    "for i in range(train_data.shape[0]):\n",
    "    if bool_index[i] == True:\n",
    "        train_data5[j] = train_data[i]\n",
    "        j +=1\n",
    "    else: \n",
    "        train_data6[k] = train_data[i]\n",
    "        k +=1\n",
    "print(train_data5.shape)\n",
    "#train_data5[394]\n",
    "#train_data6.shape"
   ]
  },
  {
   "cell_type": "code",
   "execution_count": 14,
   "metadata": {},
   "outputs": [],
   "source": [
    "# DIVIDE TRAINING DATA IN 2 MATRICES : train_data5 and train_data6\n",
    "# Let the number of examples in each be n5 and n6\n",
    "mu_5 = np.sum(train_data5, axis = 0, keepdims = True)/n5\n",
    "#mu_5.shape\n",
    "mu_6 = np.sum(train_data6, axis = 0, keepdims = True)/n6\n",
    "#mu_5.shape"
   ]
  },
  {
   "cell_type": "code",
   "execution_count": 15,
   "metadata": {},
   "outputs": [],
   "source": [
    "sigma_5 = np.dot((train_data5 - mu_5).T, (train_data5 - mu_5))/(n5-1)\n",
    "sigma_6 = np.dot((train_data6 - mu_6).T, (train_data6 - mu_6))/(n6-1)"
   ]
  },
  {
   "cell_type": "code",
   "execution_count": 16,
   "metadata": {},
   "outputs": [
    {
     "data": {
      "text/plain": [
       "(64, 64)"
      ]
     },
     "execution_count": 16,
     "metadata": {},
     "output_type": "execute_result"
    }
   ],
   "source": [
    "sigma_6.shape"
   ]
  },
  {
   "cell_type": "code",
   "execution_count": 17,
   "metadata": {},
   "outputs": [],
   "source": [
    "# Defining the discriminant functions g5 and g6\n",
    "predict_label = []\n",
    "g5 = np.zeros([test_data.shape[0], 1])\n",
    "g6 = np.zeros([test_data.shape[0], 1])\n",
    "for i in range(test_data.shape[0]):\n",
    "    g5[i] = (-1/2)*np.log10(np.linalg.det(sigma_5))+ (-1/2)*np.dot(np.dot(test_data[i]-mu_5, np.linalg.inv(sigma_5)), (test_data[i]-mu_5).T) + np.log10(apriori_c5)\n",
    "    g6[i] = (-1/2)*np.log10(np.linalg.det(sigma_6)) + (-1/2)*np.dot(np.dot(test_data[i]-mu_6, np.linalg.inv(sigma_6)), (test_data[i]-mu_6).T)+ np.log10(apriori_c6)\n",
    "    if g6[i] >= g5[i]:\n",
    "        predict_label.append('6')\n",
    "    else:\n",
    "        predict_label.append('5')\n",
    "predictions = np.array(predict_label)\n",
    "predictions = predictions.reshape(test_data.shape[0], 1)\n",
    "#print(predictions.shape)\n",
    "#print(g5[0:10])\n",
    "#print(g6[0:10])\n",
    "#infer[0:50]\n",
    "#print(predict_label[0:20])\n",
    "#test_labels[0][0]\n",
    "    \n",
    "    "
   ]
  },
  {
   "cell_type": "code",
   "execution_count": 18,
   "metadata": {},
   "outputs": [
    {
     "name": "stdout",
     "output_type": "stream",
     "text": [
      "The accuracy of the Bayesian classifier is 79.879880 %\n",
      "The misclassification error for number 5 is 24.516129 %\n",
      "The misclassification error for number 6 is 16.292135 %\n"
     ]
    }
   ],
   "source": [
    "test_c5 = sum(test_labels == '5')\n",
    "test_c6 = test_labels.shape[0] - test_c5\n",
    "infer = (predictions == test_labels)\n",
    "accuracy = (float(sum(infer))/test_data.shape[0]) * 100\n",
    "print('The accuracy of the Bayesian classifier is %f '%(accuracy) + '%')\n",
    "#print(infer[0:20])\n",
    "error5 = 0\n",
    "for i in range(test_labels.shape[0]):\n",
    "    if test_labels[i][0] == '5' and predictions[i] == '6':\n",
    "        error5 += 1\n",
    "misclass_c5 = (float(error5)/test_c5) * 100\n",
    "print('The misclassification error for number 5 is %f '%(misclass_c5) + '%')\n",
    "error6 = 0\n",
    "for i in range(test_labels.shape[0]):\n",
    "    if test_labels[i][0] == '6' and predictions[i] == '5':\n",
    "        error6 += 1\n",
    "misclass_c6 = (float(error6)/test_c6) * 100\n",
    "print('The misclassification error for number 6 is %f '%(misclass_c6) + '%')"
   ]
  },
  {
   "cell_type": "code",
   "execution_count": 19,
   "metadata": {},
   "outputs": [
    {
     "name": "stdout",
     "output_type": "stream",
     "text": [
      "The Confusion Matrix for the classifier : \n",
      "\n",
      "[[117  38]\n",
      " [ 29 149]]\n"
     ]
    }
   ],
   "source": [
    "# Populating the Confusion Matrix\n",
    "Confusion_matrix = np.zeros([2,2], dtype = np.int64)\n",
    "for i in range(test_labels.shape[0]):\n",
    "    if test_labels[i][0] == '5' and predictions[i] == '5':\n",
    "        Confusion_matrix[0][0] += 1\n",
    "    elif test_labels[i][0] == '5' and predictions[i] == '6':\n",
    "        Confusion_matrix[0][1] += 1\n",
    "    elif test_labels[i][0] == '6' and predictions[i] == '5':\n",
    "        Confusion_matrix[1][0] += 1\n",
    "    else:\n",
    "        Confusion_matrix[1][1] += 1\n",
    "print('The Confusion Matrix for the classifier : \\n')\n",
    "print(Confusion_matrix)"
   ]
  },
  {
   "cell_type": "code",
   "execution_count": null,
   "metadata": {},
   "outputs": [],
   "source": []
  }
 ],
 "metadata": {
  "kernelspec": {
   "display_name": "Python 2",
   "language": "python",
   "name": "python2"
  },
  "language_info": {
   "codemirror_mode": {
    "name": "ipython",
    "version": 2
   },
   "file_extension": ".py",
   "mimetype": "text/x-python",
   "name": "python",
   "nbconvert_exporter": "python",
   "pygments_lexer": "ipython2",
   "version": "2.7.14"
  }
 },
 "nbformat": 4,
 "nbformat_minor": 2
}
